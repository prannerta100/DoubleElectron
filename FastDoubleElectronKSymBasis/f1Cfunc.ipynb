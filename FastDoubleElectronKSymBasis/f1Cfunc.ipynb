{
 "cells": [
  {
   "cell_type": "code",
   "execution_count": 10,
   "metadata": {},
   "outputs": [
    {
     "ename": "SyntaxError",
     "evalue": "import * only allowed at module level (<ipython-input-10-537ead727f80>, line 2)",
     "output_type": "error",
     "traceback": [
      "\u001b[1;36m  File \u001b[1;32m\"<ipython-input-10-537ead727f80>\"\u001b[1;36m, line \u001b[1;32m2\u001b[0m\n\u001b[1;33m    #NUCLEAR ZEEMAN IS 0!!!\u001b[0m\n\u001b[1;37m                           ^\u001b[0m\n\u001b[1;31mSyntaxError\u001b[0m\u001b[1;31m:\u001b[0m import * only allowed at module level\n"
     ]
    }
   ],
   "source": [
    "#check nlspmc ndimo, ndimd\n",
    "#NUCLEAR ZEEMAN IS 0!!!\n",
    "#words of caution: we are dealing with very big matrices here, so memory allocation must be parsimonious\n",
    "#no dense matrices!!!! Also, it seems adding an (n,1) and an (n,) matrix requires the generation of a (n,n) matrix. Here n~100000!\n",
    "#usual caution: Python is oop, so use b = a.deepcopy() rather than b = a\n",
    "from scipy.sparse import kron as spkron\n",
    "from scipy.sparse import identity as spiden\n",
    "from __future__ import division\n",
    "import numpy as np\n",
    "import math\n",
    "from scipy.sparse import coo_matrix , csr_matrix, eye\n",
    "from scipy.sparse.linalg import gmres, expm_multiply, LinearOperator, norm, bicgstab, spsolve\n",
    "from stvec_gen import stvec_gen\n",
    "#from pymatsolver import Pardiso\n",
    "from scipy import io\n",
    "import scipy\n",
    "from DiffusionSuperoperator import DiffTensorNoPotential\n",
    "import time\n",
    "from common_defs import *\n",
    "from indices import indgen\n",
    "import os,sys\n",
    "from expokit import *\n",
    "from convert_mat import conv2coo\n",
    "from propagator import PulsePropPlus1ToPlus2, PulsePropPlus2ToMinus1, PulsePropPlus2ToPlus1, PulsePropPlus1ToMinus1\n",
    "#from pymatsolver import Pardiso\n",
    "\n"
   ]
  },
  {
   "cell_type": "code",
   "execution_count": 11,
   "metadata": {},
   "outputs": [
    {
     "name": "stdout",
     "output_type": "stream",
     "text": [
      "\n",
      "\n"
     ]
    }
   ],
   "source": [
    "#R = [5.0e4, 5.0e4, 1.0e5] \n",
    "R = [5.0e8, 5.0e8, 1.0e9]\n",
    "#R = [5.0e5, 5.0e5, 1.0e6]\n",
    "g = [2.0087, 2.0057, 2.0021] #g factors\n",
    "A = [6, 6, 36] #Gauss\n",
    "B0 = 34050 #3300 #Gauss\n",
    "g0 = 2.0021 #free e g factor\n",
    "\n",
    "#diffusion tilt (all angles in degrees)\n",
    "ald = 0#-5 \n",
    "bed = 0#10\n",
    "gad = 0#15\n",
    "\n",
    "#magnetic tilt\n",
    "alm = 0#-20\n",
    "bem = 0#25\n",
    "gam = 0#-30\n",
    "\n",
    "#dipolar tilt !!!NEW!!!\n",
    "aldip = 0#-20\n",
    "bedip = 0#25\n",
    "gadip = 0#-30\n",
    "\n",
    "#director tilt\n",
    "psi = 0.00001 #please don't make this 0, otherwise the reshaping logic will break down\n",
    "\n",
    "#nuclear spin\n",
    "In = 1 #nitroxide ideally\n",
    "I2 = 2 * In\n",
    "numI = (2*In+1)**2 #number of possible pI,qI pairs, will come into play while reshaping\n",
    "ipnmx = 2 \n",
    "\n",
    "#high field approx must be valid\n",
    "if (B0 < 10 * max( max(A), (max(g)-min(g))*B0/g0) ):\n",
    "    raise \"High field approximation violated it seems\"\n",
    "\n",
    "#dipolar constant\n",
    "D = 0 #eed to change!!!!\n",
    "\n",
    "#generate the matrix indices, diag and off-diag spaces   \n",
    "print(\"\\n\")\n"
   ]
  },
  {
   "cell_type": "code",
   "execution_count": 12,
   "metadata": {},
   "outputs": [
    {
     "name": "stdout",
     "output_type": "stream",
     "text": [
      "[0, 1, 2, 3, 4, 5, 6, 7, 8]\n",
      "[0, 18, 18, 198, 324, 702, 954, 1332, 1584, 1962]\n"
     ]
    }
   ],
   "source": [
    "ndimo, ndimd, ndimDipPlus1, ndimDipPlus2, ndimDipMinus1, ind_offdiag, ind_diag, ind_Plus1, ind_Plus2, ind_Minus1, \\\n",
    "Lstarts_offdiag, Lstarts_diag, Lstarts_Plus1, Lstarts_Plus2, Lstarts_Minus1, Llist = \\\n",
    "indgen(8, 7, 4, 3, 2, g, A, I2, [ald,bed,gad], [alm,bem,gam], [aldip, bedip, gadip], psi) #(75, 51, 25, 2, 2) \n",
    "#(30, 21, 15, 10, 2) #(8, 7, 4, 3, 2) #(25, 17, 13, 7,2)\n",
    "print(Llist)\n",
    "print(Lstarts_diag)\n",
    "numL=len(Llist)\n",
    "#stv = stvec_gen(ind_Plus1)\n",
    "np.savetxt('ind_offdiag.txt',ind_offdiag,fmt='%d',delimiter=',')\n",
    "np.savetxt('ind_diag.txt',ind_diag,fmt='%d',delimiter=',')\n",
    "#np.savetxt('stv.txt',stv)\n",
    "np.savetxt('ind_Plus1.txt',ind_Plus1,fmt='%d',delimiter=',')\n",
    "np.savetxt('ind_Plus2.txt',ind_Plus2,fmt='%d',delimiter=',')\n",
    "np.savetxt('ind_Minus1.txt',ind_Minus1,fmt='%d',delimiter=',')\n",
    "np.savetxt('Llist.txt',Llist,fmt='%d')\n",
    "np.savetxt('Lstarts_offdiag.txt',Lstarts_offdiag,fmt='%d')\n",
    "np.savetxt('Lstarts_diag.txt',Lstarts_diag,fmt='%d')\n",
    "np.savetxt('Lstarts_Plus1.txt',Lstarts_Plus1,fmt='%d',delimiter=',')\n",
    "np.savetxt('Lstarts_Plus2.txt',Lstarts_Plus2,fmt='%d',delimiter=',')\n",
    "np.savetxt('Lstarts_Minus1.txt',Lstarts_Minus1,fmt='%d',delimiter=',')\n",
    "os.system('gcc -o gen_mat -Wall -pg gen_mat.c -lm ')\n",
    "os.system('./gen_mat '+str(B0)+' '+str(psi)+' '+str(In)+' '+str(g[0])+' '+str(g[1])+' '+str(g[2])+' '+str(A[0])+' '+str(A[1])+\\\n",
    "          ' '+str(A[2])+' '+str(R[0])+' '+str(R[1])+' '+str(R[2])+' '+str(ald)+' '+str(bed)+' '+str(gad)+' '+str(alm)+\\\n",
    "           ' '+str(bem)+' '+str(gam)+' '+str(aldip)+' '+str(bedip)+' '+str(gadip)+' '+str(D)+' '+str(ndimo)+' '+str(ndimd)+\\\n",
    "           ' '+str(ndimDipPlus1)+' '+str(ndimDipPlus2)+' '+str(ndimDipMinus1)+' '+str(numL))\n",
    "stt = time.time()\n",
    "\n",
    "#off-diagonal space matrix\n",
    "matxi = conv2coo('matxi.txt',ndimo) #B0 * iden already subtracted\n",
    "matxr = DiffTensorNoPotential(ind_offdiag, R, g)\n",
    "matx = matxr + 1.0j * matxi\n",
    "\n",
    "#diagonal space matrix\n",
    "matzi = conv2coo('matzi.txt',ndimd)\n",
    "matzr = DiffTensorNoPotential(ind_diag, R, g)\n",
    "matz = matzr + 1.0j * matzi\n",
    "\n",
    "#dipolar matrix\n",
    "matdip_Plus1 = 1.0j * conv2coo('matdip_Plus1.txt',ndimDipPlus1)\n",
    "matdip_Minus1 = 1.0j * conv2coo('matdip_Minus1.txt',ndimDipPlus1)\n",
    "\n",
    "#convert all matrices to CSR\n",
    "matx = matx.tocsr()\n",
    "matz = matz.tocsr()\n",
    "matdip_Plus1 = matdip_Plus1.tocsr()\n",
    "matdip_Minus1 = matdip_Minus1.tocsr()\n",
    "#define maty, pS=-1 matrix\n",
    "maty = matx.conjugate()\n",
    "\n",
    "grand_size = ndimDipPlus1*numI**2"
   ]
  },
  {
   "cell_type": "code",
   "execution_count": 9,
   "metadata": {},
   "outputs": [
    {
     "ename": "NameError",
     "evalue": "name 'spiden' is not defined",
     "output_type": "error",
     "traceback": [
      "\u001b[1;31m---------------------------------------------------------------------------\u001b[0m",
      "\u001b[1;31mNameError\u001b[0m                                 Traceback (most recent call last)",
      "\u001b[1;32m<ipython-input-9-2f19b5d6e836>\u001b[0m in \u001b[0;36m<module>\u001b[1;34m\u001b[0m\n\u001b[0;32m      6\u001b[0m \u001b[0momarr\u001b[0m \u001b[1;33m=\u001b[0m \u001b[0mnp\u001b[0m\u001b[1;33m.\u001b[0m\u001b[0mlinspace\u001b[0m\u001b[1;33m(\u001b[0m\u001b[1;33m-\u001b[0m\u001b[1;36m100\u001b[0m\u001b[1;33m,\u001b[0m\u001b[1;36m120\u001b[0m\u001b[1;33m,\u001b[0m\u001b[1;36m200\u001b[0m\u001b[1;33m)\u001b[0m\u001b[1;33m\u001b[0m\u001b[1;33m\u001b[0m\u001b[0m\n\u001b[0;32m      7\u001b[0m \u001b[1;32mfor\u001b[0m \u001b[0mom\u001b[0m \u001b[1;32min\u001b[0m \u001b[0momarr\u001b[0m\u001b[1;33m:\u001b[0m\u001b[1;33m\u001b[0m\u001b[1;33m\u001b[0m\u001b[0m\n\u001b[1;32m----> 8\u001b[1;33m     \u001b[0mx\u001b[0m \u001b[1;33m=\u001b[0m \u001b[0mspsolve\u001b[0m\u001b[1;33m(\u001b[0m\u001b[0mmatx\u001b[0m\u001b[1;33m+\u001b[0m\u001b[1;33m(\u001b[0m\u001b[0mshiftr\u001b[0m\u001b[1;33m-\u001b[0m\u001b[1;36m1.0j\u001b[0m\u001b[1;33m*\u001b[0m\u001b[0mom\u001b[0m\u001b[1;33m)\u001b[0m\u001b[1;33m*\u001b[0m\u001b[0mspiden\u001b[0m\u001b[1;33m(\u001b[0m\u001b[0mmatx\u001b[0m\u001b[1;33m.\u001b[0m\u001b[0mshape\u001b[0m\u001b[1;33m[\u001b[0m\u001b[1;36m0\u001b[0m\u001b[1;33m]\u001b[0m\u001b[1;33m)\u001b[0m\u001b[1;33m,\u001b[0m \u001b[0mstvx\u001b[0m\u001b[1;33m)\u001b[0m\u001b[1;33m\u001b[0m\u001b[1;33m\u001b[0m\u001b[0m\n\u001b[0m\u001b[0;32m      9\u001b[0m     \u001b[0mresults\u001b[0m\u001b[1;33m.\u001b[0m\u001b[0mappend\u001b[0m\u001b[1;33m(\u001b[0m\u001b[0mnp\u001b[0m\u001b[1;33m.\u001b[0m\u001b[0mreal\u001b[0m\u001b[1;33m(\u001b[0m\u001b[0mx\u001b[0m\u001b[1;33m.\u001b[0m\u001b[0mdot\u001b[0m\u001b[1;33m(\u001b[0m\u001b[0mstvx\u001b[0m\u001b[1;33m)\u001b[0m\u001b[1;33m)\u001b[0m\u001b[1;33m)\u001b[0m\u001b[1;33m\u001b[0m\u001b[1;33m\u001b[0m\u001b[0m\n\u001b[0;32m     10\u001b[0m \u001b[1;33m\u001b[0m\u001b[0m\n",
      "\u001b[1;31mNameError\u001b[0m: name 'spiden' is not defined"
     ]
    }
   ],
   "source": [
    "#calculate CW spectrum to check if it makes sense, actually there needs to be a perfect match\n",
    "stvx = np.zeros(matx.shape[0])\n",
    "stvx[0] = stvx[1] = stvx[2] = 1/math.sqrt(3)\n",
    "shiftr = 0.5\n",
    "results = []\n",
    "omarr = np.linspace(-100,120,200)\n",
    "for om in omarr:\n",
    "    x = spsolve(matx+(shiftr-1.0j*om)*spiden(matx.shape[0]), stvx)\n",
    "    results.append(np.real(x.dot(stvx)))\n",
    "\n",
    "import matplotlib.pyplot as plt\n",
    "plt.plot(omarr[:-1],np.diff(results))"
   ]
  },
  {
   "cell_type": "code",
   "execution_count": null,
   "metadata": {},
   "outputs": [],
   "source": [
    "#off-diagonal space matrix\n",
    "matxi = conv2coo('matxi.txt',ndimo) #B0 * iden already subtracted\n",
    "matxr = DiffTensorNoPotential(ind_offdiag, R, g)\n",
    "matx = matxr + 1.0j * matxi\n",
    "\n",
    "#diagonal space matrix\n",
    "matzi = conv2coo('matzi.txt',ndimd)\n",
    "matzr = DiffTensorNoPotential(ind_diag, R, g)\n",
    "matz = matzr + 1.0j * matzi\n"
   ]
  },
  {
   "cell_type": "code",
   "execution_count": 6,
   "metadata": {},
   "outputs": [],
   "source": [
    "#starting vector\n",
    "#stv = np.reshape(stv,(-1,numI,numI,4)).astype(complex) #astype(complex) unnecessary, remove it\n",
    "nuc_stv = np.zeros(numI)\n",
    "for i in range(2*In+1):\n",
    "    nuc_stv[i] = 1.0/math.sqrt(2*In+1)\n",
    "tmp = np.kron(np.kron(nuc_stv, nuc_stv),np.ones(4))\n",
    "stvPlus1 = np.concatenate((tmp,np.zeros(grand_size-tmp.shape[0]))).reshape(-1,1)"
   ]
  },
  {
   "cell_type": "code",
   "execution_count": 7,
   "metadata": {},
   "outputs": [
    {
     "data": {
      "text/plain": [
       "(25137, 25137)"
      ]
     },
     "execution_count": 7,
     "metadata": {},
     "output_type": "execute_result"
    }
   ],
   "source": [
    "#forget Ilya trick, just create matrices and prune\n",
    "\n",
    "matrixPlus1t = spkron(matx, spiden(7))\n",
    "matrixPlus1t.shape"
   ]
  },
  {
   "cell_type": "code",
   "execution_count": 8,
   "metadata": {},
   "outputs": [],
   "source": [
    "def matvec_Plus1(v):\n",
    "    #print(v.shape, ndimDipPlus1,ndimDipPlus2,ndimo,ndimd)\n",
    "    v = np.reshape(v,(-1,numI,numI,4))\n",
    "    #v expected to be in the pS1+pS2 = 1 coherence subspace \n",
    "    #reshape to a 4 dimensional array: <L,jK,K,M>  <pIa,qIa>  <pIb,qIb>  <pSa,pSb,qSa,qSb>\n",
    "    #                                     ?        (2I+1)**2  (2I+1)**2   4(for pS_tot=1)\n",
    "    #x,y: case variables; within x/y you split into a/b and then sum the a and b components, followed by a concat to rejoin x,y\n",
    "    v_x = v[:,:,:,:2] #cases where electron a in off-diag space, electron b in diag space\n",
    "    v_y = v[:,:,:,2:] #cases where electron b in off-diag space, electron a in diag space\n",
    "    #act on v_x, act on v_y, then stitch v_x, v_y back together\n",
    "    #v_x: propagate the off-diag space for electron a, diag space for electron b, add the 2 results\n",
    "    #off-diag space electron a\n",
    "    v_xa = np.transpose(v_x,(0,1,3,2))\n",
    "    v_xa = np.reshape(v_xa,(-1,2*numI))\n",
    "    v_xa = matx@v_xa\n",
    "    v_xa = np.reshape(v_xa,(-1,numI,2,numI)) \n",
    "    v_xa = np.transpose(v_xa,(0,1,3,2)) #back to the original form\n",
    "    #diag space electron b\n",
    "    v_xb = np.transpose(v_x,(0,2,3,1))\n",
    "    v_xb = np.reshape(v_xb,(-1,numI))\n",
    "    v_xb = matz@v_xb\n",
    "    v_xb = np.reshape(v_xb,(-1,numI,2,numI)) \n",
    "    v_xb = np.transpose(v_xb,(0,3,1,2)) #back to the original 4d form\n",
    "\n",
    "    #v_y: propagate the off-diag space for electron b, diag space for electron a, add the 2 results\n",
    "    #diag space electron a\n",
    "    v_ya = np.transpose(v_y,(0,1,3,2))\n",
    "    v_ya = np.reshape(v_ya,(-1,numI))\n",
    "    v_ya = matz@v_ya\n",
    "    v_ya = np.reshape(v_ya,(-1,numI,2,numI)) \n",
    "    v_ya = np.transpose(v_ya,(0,1,3,2)) #back to the original 4d form\n",
    "    #off-diag space electron b\n",
    "    v_yb = np.transpose(v_y,(0,2,3,1))\n",
    "    v_yb = np.reshape(v_yb,(-1,2*numI))\n",
    "    v_yb = matx@v_yb\n",
    "    v_yb = np.reshape(v_yb,(-1,numI,2,numI))\n",
    "    v_yb = np.transpose(v_yb,(0,3,1,2)) #back to the original 4d form\n",
    "    #dipolar\n",
    "    vdip = np.transpose(v,(0,3,1,2))\n",
    "    vdip = np.reshape(vdip,(-1,numI**2))\n",
    "    vdip = matdip_Plus1@vdip\n",
    "    vdip = np.reshape(vdip,(-1,4,numI,numI))\n",
    "    vdip = np.transpose(vdip,(0,2,3,1)) #back to the original 4d form\n",
    "    ans = np.concatenate((v_xa+v_xb,v_ya+v_yb),axis=3) + vdip\n",
    "    return np.reshape(ans,(-1,1))\n",
    "\n",
    "def matvec_Minus1(v):\n",
    "    v = np.reshape(v,(-1,numI,numI,4))\n",
    "    #v expected to be in the pS1+pS2 = -1 coherence subspace \n",
    "    #reshape to a 4 dimensional array: <L,jK,K,M>  <pIa,qIa>  <pIb,qIb>  <pSa,pSb,qSa,qSb>\n",
    "    #                                     ?        (2I+1)**2  (2I+1)**2   4(for pS_tot=1)\n",
    "    #x,y: case variables; within x/y you split into a/b and then sum the a and b components, followed by a concat to rejoin x,y\n",
    "    v_x = v[:,:,:,:2] #cases where electron a in off-diag space, electron b in diag space\n",
    "    v_y = v[:,:,:,2:] #cases where electron b in off-diag space, electron a in diag space\n",
    "    #act on v_x, act on v_y, then stitch v_x, v_y back together\n",
    "    #v_x: propagate the off-diag space for electron a, diag space for electron b, add the 2 results\n",
    "    #off-diag space electron a\n",
    "    v_xa = np.transpose(v_x,(0,1,3,2))\n",
    "    v_xa = np.reshape(v_xa,(-1,2*numI))\n",
    "    v_xa = maty@v_xa\n",
    "    v_xa = np.reshape(v_xa,(-1,numI,2,numI)) \n",
    "    v_xa = np.transpose(v_xa,(0,1,3,2)) #back to the original 4d form\n",
    "    #diag space electron b\n",
    "    v_xb = np.transpose(v_x,(0,2,3,1))\n",
    "    v_xb = np.reshape(v_xb,(-1,numI))\n",
    "    v_xb = matz@v_xb\n",
    "    v_xb = np.reshape(v_xb,(-1,numI,2,numI)) \n",
    "    v_xb = np.transpose(v_xb,(0,3,1,2)) #back to the original 4d form\n",
    "\n",
    "    #v_y: propagate the off-diag space for electron b, diag space for electron a, add the 2 results\n",
    "    #diag space electron a\n",
    "    v_ya = np.transpose(v_y,(0,1,3,2))\n",
    "    v_ya = np.reshape(v_ya,(-1,numI))\n",
    "    v_ya = matz@v_ya\n",
    "    v_ya = np.reshape(v_ya,(-1,numI,2,numI)) \n",
    "    v_ya = np.transpose(v_ya,(0,1,3,2)) #back to the original 4d form\n",
    "    #off-diag space electron b\n",
    "    v_yb = np.transpose(v_y,(0,2,3,1))\n",
    "    v_yb = np.reshape(v_yb,(-1,2*numI))\n",
    "    v_yb = maty@v_yb\n",
    "    v_yb = np.reshape(v_yb,(-1,numI,2,numI))\n",
    "    v_yb = np.transpose(v_yb,(0,3,1,2)) #back to the original 4d form\n",
    "    #dipolar\n",
    "    vdip = np.transpose(v,(0,3,1,2))\n",
    "    vdip = np.reshape(vdip,(-1,numI**2))\n",
    "    vdip = matdip_Plus1@vdip\n",
    "    vdip = np.reshape(vdip,(-1,4,numI,numI))\n",
    "    vdip = np.transpose(vdip,(0,2,3,1)) #back to the original 4d form\n",
    "    ans = np.concatenate((v_xa+v_xb,v_ya+v_yb),axis=3) + vdip\n",
    "    return np.reshape(ans,(-1,1))\n",
    "\n",
    "def matvec_Plus2(v):\n",
    "    #v = np.reshape(v,(-1,numI,numI,1))\n",
    "    #v expected to be in the pS1+pS2 = 2 coherence subspace \n",
    "    #reshape to a 4 dimensional array: <L,jK,K,M>  <pIa,qIa>  <pIb,qIb>  <pSa,pSb,qSa,qSb>\n",
    "    #                                     ?        (2I+1)**2  (2I+1)**2   1(for pS_tot=2)\n",
    "    #act on v_a, act on v_b, then sum v_a, v_b\n",
    "    #v_a: off-diag space electron a\n",
    "    v = np.reshape(v,(-1,numI,numI,1))\n",
    "    v_a = np.transpose(v,(0,1,3,2))\n",
    "    v_a = np.reshape(v_a,(-1,numI))\n",
    "    #print(v_a.shape,matx.shape)\n",
    "    v_a = matx@v_a\n",
    "    v_a = np.reshape(v_a,(-1,numI,1,numI)) \n",
    "    v_a = np.transpose(v_a,(0,1,3,2)) #back to the original 4d form\n",
    "    #v_b: off-diag space electron bod solution to find a satisfactory house to rent? Is this problem that hard? There are so many players in this segment still there was no good solution. And this is not just my experience. A few of my friends also found their flats in the\n",
    "    v_b = np.transpose(v,(0,2,3,1))\n",
    "    v_b = np.reshape(v_b,(-1,numI))\n",
    "    v_b = matx@v_b\n",
    "    v_b = np.reshape(v_b,(-1,numI,1,numI))\n",
    "    v_b = np.transpose(v_b,(0,3,1,2)) #back to the original 4d form\n",
    "    #no dipolar term, +2 coherence has density matrix Sa+ Sb+, dipolar term \n",
    "    ans = v_a+v_b\n",
    "    return np.reshape(ans,(-1,1))\n",
    "\n",
    "def matvec_Minus2(v):\n",
    "    #v = np.reshape(v,(-1,numI,numI,1))\n",
    "    #v expected to be in the pS1+pS2 = 2 coherence subspace \n",
    "    #reshape to a 4 dimensional array: <L,jK,K,M>  <pIa,qIa>  <pIb,qIb>  <pSa,pSb,qSa,qSb>\n",
    "    #                                     ?        (2I+1)**2  (2I+1)**2   1(for pS_tot=+-2)\n",
    "    #act on v_a, act on v_b, then sum v_a, v_b\n",
    "    #v_a: off-diag space electron a\n",
    "    v = np.reshape(v,(-1,numI,numI,1))\n",
    "    v_a = np.transpose(v,(0,1,3,2))\n",
    "    v_a = np.reshape(v_a,(-1,numI))\n",
    "    #print(v_a.shape,maty.shape)\n",
    "    v_a = maty@v_a\n",
    "    v_a = np.reshape(v_a,(-1,numI,1,numI)) \n",
    "    v_a = np.transpose(v_a,(0,1,3,2)) #back to the original 4d form\n",
    "    #v_b: off-diag space electron b\n",
    "    v_b = np.transpose(v,(0,2,3,1))\n",
    "    v_b = np.reshape(v_b,(-1,numI))\n",
    "    v_b = maty@v_b\n",
    "    v_b = np.reshape(v_b,(-1,numI,1,numI))\n",
    "    v_b = np.transpose(v_b,(0,3,1,2)) #back to the original 4d form\n",
    "    #no dipolar term, +2 coherence has density matrix Sa+ Sb+, dipolar term \n",
    "    ans = v_a+v_b\n",
    "    return np.reshape(ans,(-1,1))\n"
   ]
  },
  {
   "cell_type": "code",
   "execution_count": 9,
   "metadata": {},
   "outputs": [],
   "source": [
    "cfact = 17\n",
    "t1 = 0.200\n",
    "t2 = 0.020\n",
    "\n",
    "mat_Plus1 = LinearOperator((grand_size,grand_size),matvec=matvec_Plus1)\n",
    "#anorm_Plus1 = norm(matx,np.inf) + norm(matz,np.inf) + norm(matdip_Plus1,np.inf)\n",
    "\n",
    "mat_Minus1 = LinearOperator((grand_size,grand_size),matvec=matvec_Minus1)\n",
    "#anorm_Minus1 = norm(maty,np.inf) + norm(matz,np.inf) + norm(matdip_Minus1,np.inf)\n",
    "\n",
    "mat_Plus2 = LinearOperator((int(grand_size/4),int(grand_size/4)),matvec=matvec_Plus2)\n",
    "#anorm_Plus2 = norm(matx,np.inf) * norm(matx,np.inf)\n",
    "\n",
    "mat_Minus2 = LinearOperator((int(grand_size/4),int(grand_size/4)),matvec=matvec_Minus2)\n",
    "#anorm_Minus2 = norm(maty,np.inf) * norm(maty,np.inf)"
   ]
  },
  {
   "cell_type": "code",
   "execution_count": 10,
   "metadata": {},
   "outputs": [
    {
     "name": "stdout",
     "output_type": "stream",
     "text": [
      "Time taken: 0.023935556411743164 seconds\n"
     ]
    }
   ],
   "source": [
    "stt = time.time()\n",
    "wxxx = mat_Plus1@np.ones_like(stvPlus1)\n",
    "stp = time.time()\n",
    "print(\"Time taken: {} seconds\".format(stp-stt))"
   ]
  },
  {
   "cell_type": "code",
   "execution_count": 13,
   "metadata": {},
   "outputs": [
    {
     "name": "stdout",
     "output_type": "stream",
     "text": [
      "A.shape[0] is 35316\n",
      "1\n",
      "Time taken: 1.959015130996704 seconds\n",
      "Time taken: 1.0888473987579346 seconds\n",
      "maxabs= 1.0007415106216802e-16\n"
     ]
    }
   ],
   "source": [
    "stt = time.time()\n",
    "w, err, hump = expv(-cfact * t1/200 ,mat_Plus1, stvPlus1, 0.00000001)\n",
    "stp = time.time()\n",
    "print(\"Time taken: {} seconds\".format(stp-stt))\n",
    "stt = time.time()\n",
    "#wbad, errbad, humpbad = expv1stepnew(-cfact * t1 ,mat_Plus1, stvPlus1, 0.00000001)\n",
    "wbad = expv1step(-cfact * t1/200 ,mat_Plus1, stvPlus1, 0.00000001)\n",
    "stp = time.time()\n",
    "print(\"Time taken: {} seconds\".format(stp-stt))\n",
    "\n",
    "#tt = -cfact * t1 * mat1*stv\n",
    "print('maxabs=',np.max(np.abs(wbad-w)))"
   ]
  },
  {
   "cell_type": "code",
   "execution_count": 16,
   "metadata": {},
   "outputs": [
    {
     "name": "stdout",
     "output_type": "stream",
     "text": [
      "A.shape[0] is 8829\n",
      "11\n",
      "Time taken: 2.822450876235962 seconds\n",
      "maxabs= 0.08145233812395922\n"
     ]
    }
   ],
   "source": [
    "stvPlus2 = PulsePropPlus1ToPlus2(grand_size,int(grand_size/4),math.pi/2,0.0) @ w\n",
    "stt = time.time()\n",
    "w, err, hump = expv(-cfact * t2 ,mat_Plus2, stvPlus2, 0.00001) #anorm_Plus2)\n",
    "stp = time.time()\n",
    "print(\"Time taken: {} seconds\".format(stp-stt))\n",
    "\n",
    "print('maxabs=',np.max(np.abs(w)))\n",
    "\n",
    "#stvMinus1 = PulsePropPlus2ToMinus1(int(grand_size/4),grand_size,math.pi/2,0.0) @ w\n",
    "stvPlus1Again = PulsePropPlus2ToPlus1(int(grand_size/4),grand_size,math.pi/2,0.0) @ w"
   ]
  },
  {
   "cell_type": "code",
   "execution_count": 30,
   "metadata": {},
   "outputs": [
    {
     "name": "stdout",
     "output_type": "stream",
     "text": [
      "A.shape[0] is 35316\n",
      "14\n",
      "A.shape[0] is 35316\n",
      "13\n",
      "A.shape[0] is 35316\n",
      "18\n",
      "A.shape[0] is 35316\n",
      "25\n",
      "A.shape[0] is 35316\n",
      "29\n",
      "A.shape[0] is 35316\n",
      "35\n",
      "A.shape[0] is 35316\n",
      "40\n",
      "A.shape[0] is 35316\n",
      "46\n",
      "A.shape[0] is 35316\n",
      "51\n",
      "A.shape[0] is 35316\n",
      "57\n",
      "A.shape[0] is 35316\n",
      "62\n",
      "A.shape[0] is 35316\n",
      "67\n",
      "A.shape[0] is 35316\n",
      "70\n",
      "A.shape[0] is 35316\n",
      "74\n",
      "A.shape[0] is 35316\n",
      "80\n",
      "A.shape[0] is 35316\n"
     ]
    },
    {
     "name": "stderr",
     "output_type": "stream",
     "text": [
      "C:\\Users\\DELL\\Documents\\GitHub\\DoubleElectron\\FastDoubleElectronKSymBasis\\expokit.py:200: RuntimeWarning: divide by zero encountered in double_scalars\n",
      "  t_new = gamma * t_step * (t_step * tol / err_loc) ** xm\n"
     ]
    },
    {
     "ename": "OverflowError",
     "evalue": "cannot convert float infinity to integer",
     "output_type": "error",
     "traceback": [
      "\u001b[1;31m---------------------------------------------------------------------------\u001b[0m",
      "\u001b[1;31mOverflowError\u001b[0m                             Traceback (most recent call last)",
      "\u001b[1;32m<ipython-input-30-c4a516c139f0>\u001b[0m in \u001b[0;36m<module>\u001b[1;34m\u001b[0m\n\u001b[0;32m     11\u001b[0m     \u001b[0mwPlus1\u001b[0m\u001b[1;33m[\u001b[0m\u001b[1;33m:\u001b[0m\u001b[1;33m,\u001b[0m\u001b[0mi\u001b[0m\u001b[1;33m]\u001b[0m \u001b[1;33m=\u001b[0m \u001b[0mPulsePropPlus1ToMinus1\u001b[0m\u001b[1;33m(\u001b[0m\u001b[0mgrand_size\u001b[0m\u001b[1;33m,\u001b[0m\u001b[0mgrand_size\u001b[0m\u001b[1;33m,\u001b[0m\u001b[0mmath\u001b[0m\u001b[1;33m.\u001b[0m\u001b[0mpi\u001b[0m\u001b[1;33m/\u001b[0m\u001b[1;36m2\u001b[0m\u001b[1;33m,\u001b[0m\u001b[1;36m0.0\u001b[0m\u001b[1;33m)\u001b[0m \u001b[1;33m@\u001b[0m \u001b[0mwPlus1\u001b[0m\u001b[1;33m[\u001b[0m\u001b[1;33m:\u001b[0m\u001b[1;33m,\u001b[0m\u001b[0mi\u001b[0m\u001b[1;33m]\u001b[0m\u001b[1;33m\u001b[0m\u001b[1;33m\u001b[0m\u001b[0m\n\u001b[0;32m     12\u001b[0m     \u001b[0mt3\u001b[0m \u001b[1;33m+=\u001b[0m \u001b[0mdt3\u001b[0m\u001b[1;33m\u001b[0m\u001b[1;33m\u001b[0m\u001b[0m\n\u001b[1;32m---> 13\u001b[1;33m     \u001b[0mw\u001b[0m\u001b[1;33m,\u001b[0m\u001b[0m_\u001b[0m\u001b[1;33m,\u001b[0m\u001b[0m_\u001b[0m \u001b[1;33m=\u001b[0m \u001b[0mexpv\u001b[0m\u001b[1;33m(\u001b[0m\u001b[1;33m-\u001b[0m\u001b[0mcfact\u001b[0m \u001b[1;33m*\u001b[0m \u001b[0mt3\u001b[0m\u001b[1;33m/\u001b[0m\u001b[1;36m2\u001b[0m\u001b[1;33m,\u001b[0m\u001b[0mmat_Minus1\u001b[0m\u001b[1;33m,\u001b[0m \u001b[0mw\u001b[0m\u001b[1;33m,\u001b[0m \u001b[1;36m0.0001\u001b[0m\u001b[1;33m)\u001b[0m\u001b[1;33m\u001b[0m\u001b[1;33m\u001b[0m\u001b[0m\n\u001b[0m\u001b[0;32m     14\u001b[0m     \u001b[0mlst\u001b[0m\u001b[1;33m.\u001b[0m\u001b[0mappend\u001b[0m\u001b[1;33m(\u001b[0m\u001b[0mnp\u001b[0m\u001b[1;33m.\u001b[0m\u001b[0mdot\u001b[0m\u001b[1;33m(\u001b[0m\u001b[0mw\u001b[0m\u001b[1;33m,\u001b[0m\u001b[0mstvPlus1\u001b[0m\u001b[1;33m)\u001b[0m\u001b[1;33m[\u001b[0m\u001b[1;36m0\u001b[0m\u001b[1;33m]\u001b[0m\u001b[1;33m)\u001b[0m \u001b[1;31m#stvPlus1 is actually stvMinus1\u001b[0m\u001b[1;33m\u001b[0m\u001b[1;33m\u001b[0m\u001b[0m\n\u001b[0;32m     15\u001b[0m \u001b[0mstp\u001b[0m \u001b[1;33m=\u001b[0m \u001b[0mtime\u001b[0m\u001b[1;33m.\u001b[0m\u001b[0mtime\u001b[0m\u001b[1;33m(\u001b[0m\u001b[1;33m)\u001b[0m\u001b[1;33m\u001b[0m\u001b[1;33m\u001b[0m\u001b[0m\n",
      "\u001b[1;32m~\\Documents\\GitHub\\DoubleElectron\\FastDoubleElectronKSymBasis\\expokit.py\u001b[0m in \u001b[0;36mexpv\u001b[1;34m(t, A, v, anorm, tol, m)\u001b[0m\n\u001b[0;32m    199\u001b[0m         \u001b[0mt_now\u001b[0m \u001b[1;33m=\u001b[0m \u001b[0mt_now\u001b[0m \u001b[1;33m+\u001b[0m \u001b[0mt_step\u001b[0m\u001b[1;33m\u001b[0m\u001b[1;33m\u001b[0m\u001b[0m\n\u001b[0;32m    200\u001b[0m         \u001b[0mt_new\u001b[0m \u001b[1;33m=\u001b[0m \u001b[0mgamma\u001b[0m \u001b[1;33m*\u001b[0m \u001b[0mt_step\u001b[0m \u001b[1;33m*\u001b[0m \u001b[1;33m(\u001b[0m\u001b[0mt_step\u001b[0m \u001b[1;33m*\u001b[0m \u001b[0mtol\u001b[0m \u001b[1;33m/\u001b[0m \u001b[0merr_loc\u001b[0m\u001b[1;33m)\u001b[0m \u001b[1;33m**\u001b[0m \u001b[0mxm\u001b[0m\u001b[1;33m\u001b[0m\u001b[1;33m\u001b[0m\u001b[0m\n\u001b[1;32m--> 201\u001b[1;33m         \u001b[0ms\u001b[0m \u001b[1;33m=\u001b[0m \u001b[1;36m10\u001b[0m \u001b[1;33m**\u001b[0m \u001b[1;33m(\u001b[0m\u001b[0mfloor\u001b[0m\u001b[1;33m(\u001b[0m\u001b[0mlog10\u001b[0m\u001b[1;33m(\u001b[0m\u001b[0mt_new\u001b[0m\u001b[1;33m)\u001b[0m\u001b[1;33m)\u001b[0m \u001b[1;33m-\u001b[0m \u001b[1;36m1\u001b[0m\u001b[1;33m)\u001b[0m\u001b[1;33m\u001b[0m\u001b[1;33m\u001b[0m\u001b[0m\n\u001b[0m\u001b[0;32m    202\u001b[0m         \u001b[0mt_new\u001b[0m \u001b[1;33m=\u001b[0m \u001b[0mceil\u001b[0m\u001b[1;33m(\u001b[0m\u001b[0mt_new\u001b[0m \u001b[1;33m/\u001b[0m \u001b[0ms\u001b[0m\u001b[1;33m)\u001b[0m \u001b[1;33m*\u001b[0m \u001b[0ms\u001b[0m\u001b[1;33m\u001b[0m\u001b[1;33m\u001b[0m\u001b[0m\n\u001b[0;32m    203\u001b[0m \u001b[1;33m\u001b[0m\u001b[0m\n",
      "\u001b[1;31mOverflowError\u001b[0m: cannot convert float infinity to integer"
     ]
    }
   ],
   "source": [
    "lst = [0] #[np.dot(stvMinus1,stvPlus1)[0]]\n",
    "dt3 = 0.010\n",
    "NGRD = 50\n",
    "#NGRD includes dt3*1,....,dt3*NGRD\n",
    "wPlus1 = np.zeros((grand_size,(NGRD+1)),dtype=complex)\n",
    "wPlus1[:,0] = np.reshape(stvPlus1,(-1,))\n",
    "stt = time.time()\n",
    "t3 = 0\n",
    "for i in range(1,NGRD+1):\n",
    "    wPlus1[:,i],_,_ = expv(-cfact * dt3/2, mat_Plus1, wPlus1[:,i-1], 0.0001) #anorm_Minus1)\n",
    "    wPlus1[:,i] = PulsePropPlus1ToMinus1(grand_size,grand_size,math.pi/2,0.0) @ wPlus1[:,i]\n",
    "    t3 += dt3\n",
    "    w,_,_ = expv(-cfact * t3/2,mat_Minus1, w, 0.0001)\n",
    "    lst.append(np.dot(w,stvPlus1)[0]) #stvPlus1 is actually stvMinus1\n",
    "stp = time.time()\n",
    "print('Time taken: {} seconds'.format(stp-stt))\n",
    "print(lst)\n",
    "\n",
    "np.savetxt('out6.txt',np.array(lst, dtype=complex))"
   ]
  },
  {
   "cell_type": "code",
   "execution_count": null,
   "metadata": {},
   "outputs": [],
   "source": [
    "stv = stvMinus1\n",
    "NGRD=128\n",
    "shiftr=0.2 #Gauss\n",
    "data=np.zeros((NGRD,2))\n",
    "ci=(0+1j)\n",
    "iden = LinearOperator((grand_size,grand_size),matvec=lambda x:x)\n",
    "rnge=100 #Gauss\n",
    "init_guess = 0*stv\n",
    "op=mat_Minus1+shiftr*iden\n",
    "\n",
    "stt = time.time()\n",
    "x, info = gmres(op,stv,maxiter=50,x0=init_guess)\n",
    "stp = time.time()\n",
    "print(\"Time taken: {} seconds\".format(stp-stt))"
   ]
  },
  {
   "cell_type": "code",
   "execution_count": null,
   "metadata": {},
   "outputs": [],
   "source": [
    "stt = time.time()\n",
    "maxiter = 300\n",
    "x, info = gmres(op,stv,maxiter=maxiter)\n",
    "stp = time.time()\n",
    "print(\"Time taken: {} seconds, answer:{} \".format(stp-stt, np.vdot(stvPlus1,x)))\n",
    "#R_{pll} = 1e9: \n",
    "#50 (0.03681219283082806+0.0012859105573041372j)  25 s\n",
    "#100 (0.058755629632917715+0.001987286374930817j) 50 s\n",
    "#200 (0.06983165877824854+0.0023140306187613303j)  100 s\n",
    "#300 (0.07120657630758251+0.002342490073326554j) 150 s"
   ]
  },
  {
   "cell_type": "code",
   "execution_count": null,
   "metadata": {},
   "outputs": [],
   "source": [
    "a = np.array([1,0j,1.0])\n",
    "np.vdot(a,a)"
   ]
  },
  {
   "cell_type": "code",
   "execution_count": 20,
   "metadata": {},
   "outputs": [
    {
     "data": {
      "text/plain": [
       "0.005"
      ]
     },
     "execution_count": 20,
     "metadata": {},
     "output_type": "execute_result"
    }
   ],
   "source": [
    "dt3/2"
   ]
  },
  {
   "cell_type": "markdown",
   "metadata": {},
   "source": [
    "cfact = 17\n",
    "t1 = 0.200\n",
    "t2 = 0.020\n",
    "\n",
    "mat_Plus1 = LinearOperator((grand_size,grand_size),matvec=matvec_Plus1)\n",
    "anorm_Plus1 = norm(matx,np.inf) + norm(matz,np.inf) + norm(matdip_Plus1,np.inf)\n",
    "\n",
    "mat_Minus1 = LinearOperator((grand_size,grand_size),matvec=matvec_Minus1)\n",
    "anorm_Minus1 = norm(maty,np.inf) + norm(matz,np.inf) + norm(matdip_Minus1,np.inf)\n",
    "\n",
    "mat_Plus2 = LinearOperator((int(grand_size/4),int(grand_size/4)),matvec=matvec_Plus2)\n",
    "anorm_Plus2 = norm(matx,np.inf) + norm(matz,np.inf)\n",
    "\n",
    "w, err, hump = expv(-cfact * t1 ,mat_Plus1, stvPlus1, anorm_Plus1)\n",
    "#tt = -cfact * t1 * mat1*stv\n",
    "print('maxabs=',np.max(np.abs(w)))\n",
    "\n",
    "stvPlus2 = PulsePropPlus1ToPlus2(grand_size,int(grand_size/4),math.pi/2,0.0) @ w\n",
    "w, err, hump = expv(-cfact * t2 ,mat_Plus2, stvPlus2, anorm_Plus2)\n",
    "print('maxabs=',np.max(np.abs(w)))\n",
    "\n",
    "stvMinus1 = PulsePropPlus2ToMinus1(int(grand_size/4),grand_size,math.pi/2,0.0) @ w\n",
    "w = stvMinus1\n",
    "\n",
    "stv = w\n",
    "NGRD=128\n",
    "shiftr=0.2 #Gauss\n",
    "data=np.zeros((NGRD,2))\n",
    "ci=(0+1j)\n",
    "iden = LinearOperator((grand_size,grand_size),matvec=lambda x:x)\n",
    "rnge=100 #Gauss\n",
    "init_guess = 0*stv\n",
    "for j in range(NGRD):\n",
    "    shift=np.complex(shiftr,-rnge+j*2*rnge/(NGRD-1)) #in Gauss\n",
    "    op=mat_Minus1+shift*iden\n",
    "    x, info = gmres(op,stv,maxiter=50,x0=init_guess)\n",
    "    if info<0:\n",
    "        print(\"No\")\n",
    "    init_guess = x\n",
    "    #print('x.shape',x.shape)\n",
    "    data[j][0]=-rnge+j*2*rnge/(NGRD-1)\n",
    "    #print(np.vdot(stv,x).shape)\n",
    "    data[j][1]=np.real(np.vdot(stvPlus1,x))\n",
    "np.savetxt(\"out_spec.txt\",data)"
   ]
  },
  {
   "cell_type": "markdown",
   "metadata": {},
   "source": [
    "#lst = [np.dot(stvMinus1,stvPlus1)[0]]\n",
    "#dt3 = 0.010\n",
    "#for i in range(50):\n",
    "    #w, err, hump = expv(-cfact * dt3,mat_Minus1, w, anorm_Minus1)\n",
    "    #lst.append(np.dot(w,stvPlus1)[0]) #stvPlus1 is actually stvMinus1\n",
    "#print(lst)\n",
    "#np.savetxt('out6.txt',np.array(lst, dtype=complex))\n",
    "\n",
    "#tt = matvec_Plus1(stv)\n",
    "#print(tt.shape,stv.shape)\n",
    "#print(np.max(np.abs(tt-3*stv)))\n",
    "\n",
    "#time required to construct the full (re+im) SLE matrix\n",
    "stp = time.time()\n",
    "print(stp-stt, ' seconds')\n",
    "\n",
    "#np.dot(stvx.T,np.matmul(matx,stvx))\n",
    "#print(stvx.shape)\n",
    "sys.exit()\n",
    "\n",
    "NGRD=512\n",
    "shiftr=0.2 #Gauss\n",
    "data=np.zeros((NGRD,2))\n",
    "ci=(0+1j)\n",
    "rnge=100 #Gauss\n",
    "for j in range(NGRD):\n",
    "    shift=np.complex(shiftr,-rnge+j*2*rnge/(NGRD-1)) #in Gauss\n",
    "    op=matx+shift*iden\n",
    "    x, info = gmres(op,stvx)\n",
    "    #print('x.shape',x.shape)\n",
    "    data[j][0]=-rnge+j*2*rnge/(NGRD-1)\n",
    "    #print(np.vdot(stvx,x).shape)\n",
    "    data[j][1]=np.real(np.vdot(stvx,x))\n",
    "np.savetxt(\"out_spec.txt\",data)"
   ]
  },
  {
   "cell_type": "code",
   "execution_count": 9,
   "metadata": {},
   "outputs": [
    {
     "name": "stdout",
     "output_type": "stream",
     "text": [
      "time taken: {} secs 0.02973341941833496\n"
     ]
    }
   ],
   "source": [
    "from scipy.sparse import random\n",
    "import numpy as np\n",
    "import time \n",
    "N = 30000\n",
    "A = random(N,N,0.005)\n",
    "v = np.random.rand(N,1)"
   ]
  },
  {
   "cell_type": "code",
   "execution_count": 28,
   "metadata": {},
   "outputs": [
    {
     "name": "stdout",
     "output_type": "stream",
     "text": [
      "time taken: 0.02308034896850586 secs\n"
     ]
    }
   ],
   "source": [
    "stt = time.time()\n",
    "x = A @ v\n",
    "stp = time.time()\n",
    "print('time taken: {} secs'.format(stp-stt))"
   ]
  },
  {
   "cell_type": "code",
   "execution_count": 26,
   "metadata": {},
   "outputs": [
    {
     "data": {
      "text/plain": [
       "(30000, 30000)"
      ]
     },
     "execution_count": 26,
     "metadata": {},
     "output_type": "execute_result"
    }
   ],
   "source": [
    "v.shape\n",
    "A.shape"
   ]
  },
  {
   "cell_type": "code",
   "execution_count": null,
   "metadata": {},
   "outputs": [],
   "source": []
  },
  {
   "cell_type": "code",
   "execution_count": null,
   "metadata": {},
   "outputs": [],
   "source": []
  }
 ],
 "metadata": {
  "kernelspec": {
   "display_name": "Python 3",
   "language": "python",
   "name": "python3"
  },
  "language_info": {
   "codemirror_mode": {
    "name": "ipython",
    "version": 3
   },
   "file_extension": ".py",
   "mimetype": "text/x-python",
   "name": "python",
   "nbconvert_exporter": "python",
   "pygments_lexer": "ipython3",
   "version": "3.7.6"
  }
 },
 "nbformat": 4,
 "nbformat_minor": 4
}
