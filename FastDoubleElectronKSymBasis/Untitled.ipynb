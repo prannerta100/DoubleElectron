{
 "cells": [
  {
   "cell_type": "code",
   "execution_count": 7,
   "metadata": {},
   "outputs": [],
   "source": [
    "from rq import Queue\n",
    "from worker import conn\n",
    "from utils import count_words_at_url\n",
    "q = Queue(connection=conn)\n",
    "result = q.enqueue(count_words_at_url, 'http://heroku.com')"
   ]
  },
  {
   "cell_type": "code",
   "execution_count": 8,
   "metadata": {},
   "outputs": [
    {
     "name": "stdout",
     "output_type": "stream",
     "text": [
      "None\n"
     ]
    }
   ],
   "source": [
    "print(result.result)"
   ]
  },
  {
   "cell_type": "code",
   "execution_count": 12,
   "metadata": {},
   "outputs": [],
   "source": [
    "class Solution:\n",
    "    def sumsq(self, num: int) -> int:\n",
    "        if num <= 0:\n",
    "            return 0\n",
    "        tot = 0\n",
    "        x = num\n",
    "        while x > 0:\n",
    "            y = x % 10\n",
    "            tot += y ** 2\n",
    "            x = round((x-y)/10)\n",
    "        return tot\n",
    "    def isHappy(self, n: int) -> bool:\n",
    "        if n <=0:\n",
    "            return False\n",
    "        sumsq0 = self.sumsq(n)\n",
    "        cnt = 0\n",
    "        ans = sumsq0\n",
    "        print(self.sumsq(100))\n",
    "        while cnt == 0 or (ans != sumsq0 and ans != 1):\n",
    "            ans = self.sumsq(ans)\n",
    "            cnt += 1\n",
    "        if ans == 1:\n",
    "            return True\n",
    "        else:\n",
    "            return False"
   ]
  },
  {
   "cell_type": "code",
   "execution_count": 17,
   "metadata": {},
   "outputs": [],
   "source": [
    "s = Solution().sumsq(3)"
   ]
  },
  {
   "cell_type": "code",
   "execution_count": 18,
   "metadata": {},
   "outputs": [
    {
     "name": "stdout",
     "output_type": "stream",
     "text": [
      "9\n"
     ]
    }
   ],
   "source": [
    "print(s)"
   ]
  },
  {
   "cell_type": "code",
   "execution_count": null,
   "metadata": {},
   "outputs": [],
   "source": []
  }
 ],
 "metadata": {
  "kernelspec": {
   "display_name": "Python 3",
   "language": "python",
   "name": "python3"
  },
  "language_info": {
   "codemirror_mode": {
    "name": "ipython",
    "version": 3
   },
   "file_extension": ".py",
   "mimetype": "text/x-python",
   "name": "python",
   "nbconvert_exporter": "python",
   "pygments_lexer": "ipython3",
   "version": "3.7.4"
  }
 },
 "nbformat": 4,
 "nbformat_minor": 4
}
